{
 "cells": [
  {
   "cell_type": "code",
   "execution_count": 1,
   "metadata": {},
   "outputs": [],
   "source": [
    "import tensorflow as tf\n",
    "from tensorflow.python.saved_model import signature_constants\n",
    "from tensorflow.python.saved_model import tag_constants"
   ]
  },
  {
   "cell_type": "code",
   "execution_count": 2,
   "metadata": {},
   "outputs": [],
   "source": [
    "export_dir = './saved'\n",
    "graph_pb = 'model/har_lstm/frozen_har.pb'"
   ]
  },
  {
   "cell_type": "code",
   "execution_count": 9,
   "metadata": {},
   "outputs": [
    {
     "ename": "KeyError",
     "evalue": "\"The name '^save/Assign_25:0' refers to a Tensor which does not exist. The operation, '^save/Assign_25', does not exist in the graph.\"",
     "output_type": "error",
     "traceback": [
      "\u001b[0;31m---------------------------------------------------------------------------\u001b[0m",
      "\u001b[0;31mKeyError\u001b[0m                                  Traceback (most recent call last)",
      "Cell \u001b[0;32mIn[9], line 14\u001b[0m\n\u001b[1;32m     12\u001b[0m g \u001b[39m=\u001b[39m tf\u001b[39m.\u001b[39mcompat\u001b[39m.\u001b[39mv1\u001b[39m.\u001b[39mget_default_graph()\n\u001b[1;32m     13\u001b[0m inp \u001b[39m=\u001b[39m g\u001b[39m.\u001b[39mget_tensor_by_name(\u001b[39m\"\u001b[39m\u001b[39minput:0\u001b[39m\u001b[39m\"\u001b[39m)\n\u001b[0;32m---> 14\u001b[0m out \u001b[39m=\u001b[39m g\u001b[39m.\u001b[39;49mget_tensor_by_name(\u001b[39m\"\u001b[39;49m\u001b[39m^save/Assign_25:0\u001b[39;49m\u001b[39m\"\u001b[39;49m)\n\u001b[1;32m     16\u001b[0m sigs[signature_constants\u001b[39m.\u001b[39mDEFAULT_SERVING_SIGNATURE_DEF_KEY] \u001b[39m=\u001b[39m \\\n\u001b[1;32m     17\u001b[0m     tf\u001b[39m.\u001b[39mcompat\u001b[39m.\u001b[39mv1\u001b[39m.\u001b[39msaved_model\u001b[39m.\u001b[39msignature_def_utils\u001b[39m.\u001b[39mpredict_signature_def(\n\u001b[1;32m     18\u001b[0m         {\u001b[39m\"\u001b[39m\u001b[39min\u001b[39m\u001b[39m\"\u001b[39m: inp}, {\u001b[39m\"\u001b[39m\u001b[39mout\u001b[39m\u001b[39m\"\u001b[39m: out})\n\u001b[1;32m     20\u001b[0m builder\u001b[39m.\u001b[39madd_meta_graph_and_variables(sess,\n\u001b[1;32m     21\u001b[0m                                      [tag_constants\u001b[39m.\u001b[39mSERVING],\n\u001b[1;32m     22\u001b[0m                                      signature_def_map\u001b[39m=\u001b[39msigs)\n",
      "File \u001b[0;32m~/miniconda/lib/python3.10/site-packages/tensorflow/python/framework/ops.py:4188\u001b[0m, in \u001b[0;36mGraph.get_tensor_by_name\u001b[0;34m(self, name)\u001b[0m\n\u001b[1;32m   4185\u001b[0m \u001b[39mif\u001b[39;00m \u001b[39mnot\u001b[39;00m \u001b[39misinstance\u001b[39m(name, \u001b[39mstr\u001b[39m):\n\u001b[1;32m   4186\u001b[0m   \u001b[39mraise\u001b[39;00m \u001b[39mTypeError\u001b[39;00m(\u001b[39m\"\u001b[39m\u001b[39mTensor names are strings (or similar), not \u001b[39m\u001b[39m%s\u001b[39;00m\u001b[39m.\u001b[39m\u001b[39m\"\u001b[39m \u001b[39m%\u001b[39m\n\u001b[1;32m   4187\u001b[0m                   \u001b[39mtype\u001b[39m(name)\u001b[39m.\u001b[39m\u001b[39m__name__\u001b[39m)\n\u001b[0;32m-> 4188\u001b[0m \u001b[39mreturn\u001b[39;00m \u001b[39mself\u001b[39;49m\u001b[39m.\u001b[39;49mas_graph_element(name, allow_tensor\u001b[39m=\u001b[39;49m\u001b[39mTrue\u001b[39;49;00m, allow_operation\u001b[39m=\u001b[39;49m\u001b[39mFalse\u001b[39;49;00m)\n",
      "File \u001b[0;32m~/miniconda/lib/python3.10/site-packages/tensorflow/python/framework/ops.py:4012\u001b[0m, in \u001b[0;36mGraph.as_graph_element\u001b[0;34m(self, obj, allow_tensor, allow_operation)\u001b[0m\n\u001b[1;32m   4009\u001b[0m   \u001b[39mreturn\u001b[39;00m \u001b[39mself\u001b[39m\u001b[39m.\u001b[39m_as_graph_element_locked(obj, allow_tensor, allow_operation)\n\u001b[1;32m   4011\u001b[0m \u001b[39mwith\u001b[39;00m \u001b[39mself\u001b[39m\u001b[39m.\u001b[39m_lock:\n\u001b[0;32m-> 4012\u001b[0m   \u001b[39mreturn\u001b[39;00m \u001b[39mself\u001b[39;49m\u001b[39m.\u001b[39;49m_as_graph_element_locked(obj, allow_tensor, allow_operation)\n",
      "File \u001b[0;32m~/miniconda/lib/python3.10/site-packages/tensorflow/python/framework/ops.py:4052\u001b[0m, in \u001b[0;36mGraph._as_graph_element_locked\u001b[0;34m(self, obj, allow_tensor, allow_operation)\u001b[0m\n\u001b[1;32m   4050\u001b[0m   op \u001b[39m=\u001b[39m \u001b[39mself\u001b[39m\u001b[39m.\u001b[39m_nodes_by_name[op_name]\n\u001b[1;32m   4051\u001b[0m \u001b[39melse\u001b[39;00m:\n\u001b[0;32m-> 4052\u001b[0m   \u001b[39mraise\u001b[39;00m \u001b[39mKeyError\u001b[39;00m(\u001b[39m\"\u001b[39m\u001b[39mThe name \u001b[39m\u001b[39m%s\u001b[39;00m\u001b[39m refers to a Tensor which does not \u001b[39m\u001b[39m\"\u001b[39m\n\u001b[1;32m   4053\u001b[0m                  \u001b[39m\"\u001b[39m\u001b[39mexist. The operation, \u001b[39m\u001b[39m%s\u001b[39;00m\u001b[39m, does not exist in the \u001b[39m\u001b[39m\"\u001b[39m\n\u001b[1;32m   4054\u001b[0m                  \u001b[39m\"\u001b[39m\u001b[39mgraph.\u001b[39m\u001b[39m\"\u001b[39m \u001b[39m%\u001b[39m (\u001b[39mrepr\u001b[39m(name), \u001b[39mrepr\u001b[39m(op_name)))\n\u001b[1;32m   4055\u001b[0m \u001b[39mtry\u001b[39;00m:\n\u001b[1;32m   4056\u001b[0m   \u001b[39mreturn\u001b[39;00m op\u001b[39m.\u001b[39moutputs[out_n]\n",
      "\u001b[0;31mKeyError\u001b[0m: \"The name '^save/Assign_25:0' refers to a Tensor which does not exist. The operation, '^save/Assign_25', does not exist in the graph.\""
     ]
    }
   ],
   "source": [
    "builder = tf.compat.v1.saved_model.builder.SavedModelBuilder(export_dir)\n",
    "\n",
    "with tf.compat.v1.gfile.GFile(graph_pb, \"rb\") as f:\n",
    "    graph_def = tf.compat.v1.GraphDef()\n",
    "    graph_def.ParseFromString(f.read())\n",
    "\n",
    "sigs = {}\n",
    "\n",
    "with tf.compat.v1.Session(graph=tf.compat.v1.Graph()) as sess:\n",
    "    # name=\"\" is important to ensure we don't get spurious prefixing\n",
    "    tf.compat.v1.import_graph_def(graph_def, name=\"\")\n",
    "    g = tf.compat.v1.get_default_graph()\n",
    "    inp = g.get_tensor_by_name(\"Variable:0\")\n",
    "    out = g.get_tensor_by_name(\"^save/Assign_25:0\")\n",
    "\n",
    "    sigs[signature_constants.DEFAULT_SERVING_SIGNATURE_DEF_KEY] = \\\n",
    "        tf.compat.v1.saved_model.signature_def_utils.predict_signature_def(\n",
    "            {\"in\": inp}, {\"out\": out})\n",
    "\n",
    "    builder.add_meta_graph_and_variables(sess,\n",
    "                                         [tag_constants.SERVING],\n",
    "                                         signature_def_map=sigs)\n",
    "\n",
    "builder.save()"
   ]
  }
 ],
 "metadata": {
  "kernelspec": {
   "display_name": "Python 3",
   "language": "python",
   "name": "python3"
  },
  "language_info": {
   "codemirror_mode": {
    "name": "ipython",
    "version": 3
   },
   "file_extension": ".py",
   "mimetype": "text/x-python",
   "name": "python",
   "nbconvert_exporter": "python",
   "pygments_lexer": "ipython3",
   "version": "3.10.10"
  },
  "orig_nbformat": 4
 },
 "nbformat": 4,
 "nbformat_minor": 2
}
